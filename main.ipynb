{
 "cells": [
  {
   "cell_type": "code",
   "execution_count": 1,
   "metadata": {},
   "outputs": [
    {
     "name": "stdout",
     "output_type": "stream",
     "text": [
      "# packages in environment at /Users/alechay/opt/anaconda3/envs/biof399-fp:\n",
      "#\n",
      "# Name                    Version                   Build  Channel\n",
      "_tflow_select             2.3.0                       mkl  \n",
      "absl-py                   0.11.0             pyhd3eb1b0_1  \n",
      "appnope                   0.1.2           py37hecd8cb5_1001  \n",
      "astor                     0.8.1            py37hecd8cb5_0  \n",
      "backcall                  0.2.0              pyhd3eb1b0_0  \n",
      "blas                      1.0                         mkl  \n",
      "c-ares                    1.17.1               h9ed2024_0  \n",
      "ca-certificates           2021.1.19            hecd8cb5_0  \n",
      "certifi                   2020.12.5        py37hecd8cb5_0  \n",
      "coverage                  5.5              py37h9ed2024_2  \n",
      "cycler                    0.10.0                   py37_0  \n",
      "cython                    0.29.22          py37h23ab428_0  \n",
      "decorator                 4.4.2              pyhd3eb1b0_0  \n",
      "et_xmlfile                1.0.1                   py_1001    anaconda\n",
      "freetype                  2.10.4               ha233b18_0  \n",
      "gast                      0.2.2                    py37_0  \n",
      "google-pasta              0.2.0                      py_0  \n",
      "grpcio                    1.36.1           py37h97de6d8_1  \n",
      "h5py                      2.10.0           py37h0601b69_1  \n",
      "hdf5                      1.10.6               hdbbcd12_0  \n",
      "importlib-metadata        2.0.0                      py_1  \n",
      "intel-openmp              2019.4                      233  \n",
      "ipykernel                 5.3.4            py37h5ca1d4c_0  \n",
      "ipython                   7.21.0           py37h01d92e1_0  \n",
      "ipython_genutils          0.2.0              pyhd3eb1b0_1  \n",
      "jdcal                     1.4.1                      py_0    anaconda\n",
      "jedi                      0.17.2           py37hecd8cb5_1  \n",
      "jpeg                      9b                   he5867d9_2  \n",
      "jupyter_client            6.1.7                      py_0  \n",
      "jupyter_core              4.7.1            py37hecd8cb5_0  \n",
      "keras-applications        1.0.8                      py_1  \n",
      "keras-preprocessing       1.1.2              pyhd3eb1b0_0  \n",
      "kiwisolver                1.3.1            py37h23ab428_0  \n",
      "lcms2                     2.11                 h92f6f08_0  \n",
      "libcxx                    10.0.0                        1  \n",
      "libedit                   3.1.20191231         h1de35cc_1  \n",
      "libffi                    3.3                  hb1e8313_2  \n",
      "libgfortran               3.0.1                h93005f0_2  \n",
      "libpng                    1.6.37               ha441bb4_0  \n",
      "libprotobuf               3.14.0               h2842e9f_0  \n",
      "libsodium                 1.0.18               h1de35cc_0  \n",
      "libtiff                   4.1.0                hcb84e12_1  \n",
      "lz4-c                     1.9.3                h23ab428_0  \n",
      "markdown                  3.3.4            py37hecd8cb5_0  \n",
      "matplotlib                3.3.4            py37hecd8cb5_0  \n",
      "matplotlib-base           3.3.4            py37h8b3ea08_0  \n",
      "mkl                       2019.4                      233  \n",
      "mkl-service               2.3.0            py37h9ed2024_0  \n",
      "mkl_fft                   1.3.0            py37ha059aab_0  \n",
      "mkl_random                1.1.1            py37h959d312_0  \n",
      "ncurses                   6.2                  h0a44026_1  \n",
      "nibabel                   3.2.1              pyhd8ed1ab_0    conda-forge\n",
      "numpy                     1.19.2           py37h456fd55_0  \n",
      "numpy-base                1.19.2           py37hcfb5961_0  \n",
      "olefile                   0.46                     py37_0  \n",
      "openpyxl                  3.0.5                      py_0    anaconda\n",
      "openssl                   1.1.1j               h9ed2024_0  \n",
      "opt_einsum                3.1.0                      py_0  \n",
      "packaging                 20.9               pyh44b312d_0    conda-forge\n",
      "pandas                    1.2.3            py37hb2f4e1b_0  \n",
      "parso                     0.7.0                      py_0  \n",
      "pexpect                   4.8.0              pyhd3eb1b0_3  \n",
      "pickleshare               0.7.5           pyhd3eb1b0_1003  \n",
      "pillow                    8.1.1            py37h5270095_0  \n",
      "pip                       21.0.1           py37hecd8cb5_0  \n",
      "prompt-toolkit            3.0.8                      py_0  \n",
      "protobuf                  3.14.0           py37h23ab428_1  \n",
      "ptyprocess                0.7.0              pyhd3eb1b0_2  \n",
      "pydicom                   2.1.2              pyhd3deb0d_0    conda-forge\n",
      "pygments                  2.8.0              pyhd3eb1b0_0  \n",
      "pyparsing                 2.4.7              pyh9f0ad1d_0    conda-forge\n",
      "python                    3.7.10               h88f2d9e_0  \n",
      "python-dateutil           2.8.1              pyhd3eb1b0_0  \n",
      "python_abi                3.7                     1_cp37m    conda-forge\n",
      "pytz                      2021.1             pyhd3eb1b0_0  \n",
      "pyzmq                     20.0.0           py37h23ab428_1  \n",
      "readline                  8.1                  h9ed2024_0  \n",
      "scipy                     1.6.1            py37h2515648_0  \n",
      "setuptools                52.0.0           py37hecd8cb5_0  \n",
      "six                       1.15.0           py37hecd8cb5_0  \n",
      "sqlite                    3.33.0               hffcf06c_0  \n",
      "tensorboard               2.0.0              pyhb38c66f_1  \n",
      "tensorflow                2.0.0           mkl_py37hda344b4_0  \n",
      "tensorflow-base           2.0.0           mkl_py37h66b1bf0_0  \n",
      "tensorflow-estimator      2.0.0              pyh2649769_0  \n",
      "termcolor                 1.1.0            py37hecd8cb5_1  \n",
      "tk                        8.6.10               hb0a8c7a_0  \n",
      "tornado                   6.1              py37h9ed2024_0  \n",
      "traitlets                 5.0.5              pyhd3eb1b0_0  \n",
      "wcwidth                   0.2.5                      py_0  \n",
      "werkzeug                  1.0.1              pyhd3eb1b0_0  \n",
      "wheel                     0.36.2             pyhd3eb1b0_0  \n",
      "wrapt                     1.12.1           py37h1de35cc_1  \n",
      "xlrd                      2.0.1              pyhd3eb1b0_0  \n",
      "xz                        5.2.5                h1de35cc_0  \n",
      "zeromq                    4.3.3                hb1e8313_3  \n",
      "zipp                      3.4.0              pyhd3eb1b0_0  \n",
      "zlib                      1.2.11               h1de35cc_3  \n",
      "zstd                      1.4.5                h41d2c2f_0  \n",
      "\n",
      "Note: you may need to restart the kernel to use updated packages.\n"
     ]
    }
   ],
   "source": [
    "%conda list"
   ]
  },
  {
   "cell_type": "markdown",
   "metadata": {},
   "source": [
    "# Classifiying MRI Data as Demented or Nondemented"
   ]
  },
  {
   "cell_type": "markdown",
   "metadata": {},
   "source": [
    "Load Packages"
   ]
  },
  {
   "cell_type": "code",
   "execution_count": 2,
   "metadata": {},
   "outputs": [],
   "source": [
    "import numpy as np\n",
    "import pandas as pd\n",
    "import matplotlib.pyplot as plt\n",
    "\n",
    "import nibabel as nib # For reading image files\n",
    "import tensorflow as tf \n",
    "\n",
    "import os"
   ]
  },
  {
   "cell_type": "markdown",
   "metadata": {},
   "source": [
    "Load Data"
   ]
  },
  {
   "cell_type": "code",
   "execution_count": 3,
   "metadata": {},
   "outputs": [
    {
     "data": {
      "text/html": [
       "<div>\n",
       "<style scoped>\n",
       "    .dataframe tbody tr th:only-of-type {\n",
       "        vertical-align: middle;\n",
       "    }\n",
       "\n",
       "    .dataframe tbody tr th {\n",
       "        vertical-align: top;\n",
       "    }\n",
       "\n",
       "    .dataframe thead th {\n",
       "        text-align: right;\n",
       "    }\n",
       "</style>\n",
       "<table border=\"1\" class=\"dataframe\">\n",
       "  <thead>\n",
       "    <tr style=\"text-align: right;\">\n",
       "      <th></th>\n",
       "      <th>Subject ID</th>\n",
       "      <th>MRI ID</th>\n",
       "      <th>Group</th>\n",
       "      <th>Visit</th>\n",
       "      <th>MR Delay</th>\n",
       "      <th>M/F</th>\n",
       "      <th>Hand</th>\n",
       "      <th>Age</th>\n",
       "      <th>EDUC</th>\n",
       "      <th>SES</th>\n",
       "      <th>MMSE</th>\n",
       "      <th>CDR</th>\n",
       "      <th>eTIV</th>\n",
       "      <th>nWBV</th>\n",
       "      <th>ASF</th>\n",
       "    </tr>\n",
       "  </thead>\n",
       "  <tbody>\n",
       "    <tr>\n",
       "      <th>0</th>\n",
       "      <td>OAS2_0001</td>\n",
       "      <td>OAS2_0001_MR1</td>\n",
       "      <td>Nondemented</td>\n",
       "      <td>1</td>\n",
       "      <td>0</td>\n",
       "      <td>M</td>\n",
       "      <td>R</td>\n",
       "      <td>87</td>\n",
       "      <td>14</td>\n",
       "      <td>2.0</td>\n",
       "      <td>27.0</td>\n",
       "      <td>0.0</td>\n",
       "      <td>1986.550000</td>\n",
       "      <td>0.696106</td>\n",
       "      <td>0.883440</td>\n",
       "    </tr>\n",
       "    <tr>\n",
       "      <th>1</th>\n",
       "      <td>OAS2_0001</td>\n",
       "      <td>OAS2_0001_MR2</td>\n",
       "      <td>Nondemented</td>\n",
       "      <td>2</td>\n",
       "      <td>457</td>\n",
       "      <td>M</td>\n",
       "      <td>R</td>\n",
       "      <td>88</td>\n",
       "      <td>14</td>\n",
       "      <td>2.0</td>\n",
       "      <td>30.0</td>\n",
       "      <td>0.0</td>\n",
       "      <td>2004.479526</td>\n",
       "      <td>0.681062</td>\n",
       "      <td>0.875539</td>\n",
       "    </tr>\n",
       "    <tr>\n",
       "      <th>2</th>\n",
       "      <td>OAS2_0002</td>\n",
       "      <td>OAS2_0002_MR1</td>\n",
       "      <td>Demented</td>\n",
       "      <td>1</td>\n",
       "      <td>0</td>\n",
       "      <td>M</td>\n",
       "      <td>R</td>\n",
       "      <td>75</td>\n",
       "      <td>12</td>\n",
       "      <td>NaN</td>\n",
       "      <td>23.0</td>\n",
       "      <td>0.5</td>\n",
       "      <td>1678.290000</td>\n",
       "      <td>0.736336</td>\n",
       "      <td>1.045710</td>\n",
       "    </tr>\n",
       "    <tr>\n",
       "      <th>3</th>\n",
       "      <td>OAS2_0002</td>\n",
       "      <td>OAS2_0002_MR2</td>\n",
       "      <td>Demented</td>\n",
       "      <td>2</td>\n",
       "      <td>560</td>\n",
       "      <td>M</td>\n",
       "      <td>R</td>\n",
       "      <td>76</td>\n",
       "      <td>12</td>\n",
       "      <td>NaN</td>\n",
       "      <td>28.0</td>\n",
       "      <td>0.5</td>\n",
       "      <td>1737.620000</td>\n",
       "      <td>0.713402</td>\n",
       "      <td>1.010000</td>\n",
       "    </tr>\n",
       "    <tr>\n",
       "      <th>4</th>\n",
       "      <td>OAS2_0002</td>\n",
       "      <td>OAS2_0002_MR3</td>\n",
       "      <td>Demented</td>\n",
       "      <td>3</td>\n",
       "      <td>1895</td>\n",
       "      <td>M</td>\n",
       "      <td>R</td>\n",
       "      <td>80</td>\n",
       "      <td>12</td>\n",
       "      <td>NaN</td>\n",
       "      <td>22.0</td>\n",
       "      <td>0.5</td>\n",
       "      <td>1697.911134</td>\n",
       "      <td>0.701236</td>\n",
       "      <td>1.033623</td>\n",
       "    </tr>\n",
       "  </tbody>\n",
       "</table>\n",
       "</div>"
      ],
      "text/plain": [
       "  Subject ID         MRI ID        Group  Visit  MR Delay M/F Hand  Age  EDUC  \\\n",
       "0  OAS2_0001  OAS2_0001_MR1  Nondemented      1         0   M    R   87    14   \n",
       "1  OAS2_0001  OAS2_0001_MR2  Nondemented      2       457   M    R   88    14   \n",
       "2  OAS2_0002  OAS2_0002_MR1     Demented      1         0   M    R   75    12   \n",
       "3  OAS2_0002  OAS2_0002_MR2     Demented      2       560   M    R   76    12   \n",
       "4  OAS2_0002  OAS2_0002_MR3     Demented      3      1895   M    R   80    12   \n",
       "\n",
       "   SES  MMSE  CDR         eTIV      nWBV       ASF  \n",
       "0  2.0  27.0  0.0  1986.550000  0.696106  0.883440  \n",
       "1  2.0  30.0  0.0  2004.479526  0.681062  0.875539  \n",
       "2  NaN  23.0  0.5  1678.290000  0.736336  1.045710  \n",
       "3  NaN  28.0  0.5  1737.620000  0.713402  1.010000  \n",
       "4  NaN  22.0  0.5  1697.911134  0.701236  1.033623  "
      ]
     },
     "execution_count": 3,
     "metadata": {},
     "output_type": "execute_result"
    }
   ],
   "source": [
    "df = pd.read_excel('data/oasis_longitudinal_demographics.xlsx')\n",
    "df.head()"
   ]
  },
  {
   "cell_type": "code",
   "execution_count": 4,
   "metadata": {},
   "outputs": [
    {
     "name": "stdout",
     "output_type": "stream",
     "text": [
      "(373, 15)\n"
     ]
    },
    {
     "data": {
      "text/plain": [
       "Nondemented    190\n",
       "Demented       146\n",
       "Converted       37\n",
       "Name: Group, dtype: int64"
      ]
     },
     "execution_count": 4,
     "metadata": {},
     "output_type": "execute_result"
    }
   ],
   "source": [
    "print(df.shape)\n",
    "df['Group'].value_counts()"
   ]
  },
  {
   "cell_type": "markdown",
   "metadata": {},
   "source": [
    "Exclude where group is 'Converted'. The goal is just to classify demented vs nondemented images. The 'Converted' label is confusing because we don't know which of those subject's scans were classified as demented and which were nondemented. <br>\n",
    "To also only include each subject's first scan: `df['MRI ID'].str.endswith('MR1')`"
   ]
  },
  {
   "cell_type": "code",
   "execution_count": 5,
   "metadata": {},
   "outputs": [
    {
     "name": "stdout",
     "output_type": "stream",
     "text": [
      "(336, 3)\n"
     ]
    },
    {
     "data": {
      "text/plain": [
       "Nondemented    190\n",
       "Demented       146\n",
       "Name: Group, dtype: int64"
      ]
     },
     "execution_count": 5,
     "metadata": {},
     "output_type": "execute_result"
    }
   ],
   "source": [
    "subjects = df[(df['Group']!='Converted')]\n",
    "subjects = subjects[['Subject ID', 'MRI ID', 'Group']]\n",
    "print(subjects.shape)\n",
    "subjects['Group'].value_counts()"
   ]
  },
  {
   "cell_type": "markdown",
   "metadata": {},
   "source": [
    "## Individual subject load"
   ]
  },
  {
   "cell_type": "code",
   "execution_count": 6,
   "metadata": {},
   "outputs": [],
   "source": [
    "test = nib.load('data/OAS2_RAW/OAS2_0001_MR1/RAW/mpr-1.nifti.hdr')"
   ]
  },
  {
   "cell_type": "code",
   "execution_count": 7,
   "metadata": {},
   "outputs": [
    {
     "name": "stdout",
     "output_type": "stream",
     "text": [
      "(256, 256, 128, 1)\n",
      "float64\n"
     ]
    }
   ],
   "source": [
    "img_data = test.get_fdata()\n",
    "print(img_data.shape)\n",
    "print(img_data.dtype)"
   ]
  },
  {
   "cell_type": "markdown",
   "metadata": {},
   "source": [
    "Visualize images"
   ]
  },
  {
   "cell_type": "code",
   "execution_count": 8,
   "metadata": {},
   "outputs": [
    {
     "data": {
      "image/png": "[encoded data removed]",
      "text/plain": [
       "<Figure size 432x288 with 3 Axes>"
      ]
     },
     "metadata": {
      "needs_background": "light"
     },
     "output_type": "display_data"
    }
   ],
   "source": [
    "def show_slices(slices):\n",
    "    \"\"\" Function to display row of image slices \"\"\"\n",
    "    fig, axes = plt.subplots(1, len(slices))\n",
    "    for i, slice in enumerate(slices):\n",
    "        axes[i].imshow(slice.T, cmap=\"gray\", origin=\"lower\")\n",
    "\n",
    "slice_0 = img_data[127, :, :, 0]\n",
    "slice_1 = img_data[:, 127, :, 0]\n",
    "slice_2 = img_data[:, :, 63, 0]\n",
    "show_slices([slice_0, slice_1, slice_2])\n",
    "plt.suptitle(\"Center slices for MRI image\") ;"
   ]
  },
  {
   "cell_type": "markdown",
   "metadata": {},
   "source": [
    "## Load scans for all subjects"
   ]
  },
  {
   "cell_type": "code",
   "execution_count": 9,
   "metadata": {},
   "outputs": [
    {
     "data": {
      "text/html": [
       "<div>\n",
       "<style scoped>\n",
       "    .dataframe tbody tr th:only-of-type {\n",
       "        vertical-align: middle;\n",
       "    }\n",
       "\n",
       "    .dataframe tbody tr th {\n",
       "        vertical-align: top;\n",
       "    }\n",
       "\n",
       "    .dataframe thead th {\n",
       "        text-align: right;\n",
       "    }\n",
       "</style>\n",
       "<table border=\"1\" class=\"dataframe\">\n",
       "  <thead>\n",
       "    <tr style=\"text-align: right;\">\n",
       "      <th></th>\n",
       "      <th>Subject ID</th>\n",
       "      <th>MRI ID</th>\n",
       "      <th>Group</th>\n",
       "    </tr>\n",
       "  </thead>\n",
       "  <tbody>\n",
       "    <tr>\n",
       "      <th>0</th>\n",
       "      <td>OAS2_0001</td>\n",
       "      <td>OAS2_0001_MR1</td>\n",
       "      <td>Nondemented</td>\n",
       "    </tr>\n",
       "    <tr>\n",
       "      <th>1</th>\n",
       "      <td>OAS2_0001</td>\n",
       "      <td>OAS2_0001_MR2</td>\n",
       "      <td>Nondemented</td>\n",
       "    </tr>\n",
       "    <tr>\n",
       "      <th>2</th>\n",
       "      <td>OAS2_0002</td>\n",
       "      <td>OAS2_0002_MR1</td>\n",
       "      <td>Demented</td>\n",
       "    </tr>\n",
       "    <tr>\n",
       "      <th>3</th>\n",
       "      <td>OAS2_0002</td>\n",
       "      <td>OAS2_0002_MR2</td>\n",
       "      <td>Demented</td>\n",
       "    </tr>\n",
       "    <tr>\n",
       "      <th>4</th>\n",
       "      <td>OAS2_0002</td>\n",
       "      <td>OAS2_0002_MR3</td>\n",
       "      <td>Demented</td>\n",
       "    </tr>\n",
       "  </tbody>\n",
       "</table>\n",
       "</div>"
      ],
      "text/plain": [
       "  Subject ID         MRI ID        Group\n",
       "0  OAS2_0001  OAS2_0001_MR1  Nondemented\n",
       "1  OAS2_0001  OAS2_0001_MR2  Nondemented\n",
       "2  OAS2_0002  OAS2_0002_MR1     Demented\n",
       "3  OAS2_0002  OAS2_0002_MR2     Demented\n",
       "4  OAS2_0002  OAS2_0002_MR3     Demented"
      ]
     },
     "execution_count": 9,
     "metadata": {},
     "output_type": "execute_result"
    }
   ],
   "source": [
    "subjects.head()"
   ]
  },
  {
   "cell_type": "code",
   "execution_count": 10,
   "metadata": {},
   "outputs": [],
   "source": [
    "images = []\n",
    "mri_id = []\n",
    "\n",
    "for s in subjects['MRI ID']:\n",
    "    d = os.path.join('data/OAS2_RAW', s, 'RAW')\n",
    "    \n",
    "    for file in os.listdir(d):\n",
    "        if file.endswith(\".hdr\"):\n",
    "            file = os.path.join(d, file)\n",
    "            images.append(nib.load(file))\n",
    "            mri_id.append(s)\n",
    "\n",
    "assert(len(images) == len(mri_id))\n",
    "\n",
    "image_df = pd.DataFrame(list(zip(mri_id, images)), columns =['MRI ID', 'Image'])"
   ]
  },
  {
   "cell_type": "code",
   "execution_count": 11,
   "metadata": {},
   "outputs": [
    {
     "name": "stdout",
     "output_type": "stream",
     "text": [
      "(1234, 4)\n"
     ]
    },
    {
     "data": {
      "text/html": [
       "<div>\n",
       "<style scoped>\n",
       "    .dataframe tbody tr th:only-of-type {\n",
       "        vertical-align: middle;\n",
       "    }\n",
       "\n",
       "    .dataframe tbody tr th {\n",
       "        vertical-align: top;\n",
       "    }\n",
       "\n",
       "    .dataframe thead th {\n",
       "        text-align: right;\n",
       "    }\n",
       "</style>\n",
       "<table border=\"1\" class=\"dataframe\">\n",
       "  <thead>\n",
       "    <tr style=\"text-align: right;\">\n",
       "      <th></th>\n",
       "      <th>Subject ID</th>\n",
       "      <th>MRI ID</th>\n",
       "      <th>Group</th>\n",
       "      <th>Image</th>\n",
       "    </tr>\n",
       "  </thead>\n",
       "  <tbody>\n",
       "    <tr>\n",
       "      <th>0</th>\n",
       "      <td>OAS2_0001</td>\n",
       "      <td>OAS2_0001_MR1</td>\n",
       "      <td>Nondemented</td>\n",
       "      <td>&lt;class 'nibabel.nifti1.Nifti1Pair'&gt;\\ndata shap...</td>\n",
       "    </tr>\n",
       "    <tr>\n",
       "      <th>1</th>\n",
       "      <td>OAS2_0001</td>\n",
       "      <td>OAS2_0001_MR1</td>\n",
       "      <td>Nondemented</td>\n",
       "      <td>&lt;class 'nibabel.nifti1.Nifti1Pair'&gt;\\ndata shap...</td>\n",
       "    </tr>\n",
       "    <tr>\n",
       "      <th>2</th>\n",
       "      <td>OAS2_0001</td>\n",
       "      <td>OAS2_0001_MR1</td>\n",
       "      <td>Nondemented</td>\n",
       "      <td>&lt;class 'nibabel.nifti1.Nifti1Pair'&gt;\\ndata shap...</td>\n",
       "    </tr>\n",
       "    <tr>\n",
       "      <th>3</th>\n",
       "      <td>OAS2_0001</td>\n",
       "      <td>OAS2_0001_MR2</td>\n",
       "      <td>Nondemented</td>\n",
       "      <td>&lt;class 'nibabel.nifti1.Nifti1Pair'&gt;\\ndata shap...</td>\n",
       "    </tr>\n",
       "    <tr>\n",
       "      <th>4</th>\n",
       "      <td>OAS2_0001</td>\n",
       "      <td>OAS2_0001_MR2</td>\n",
       "      <td>Nondemented</td>\n",
       "      <td>&lt;class 'nibabel.nifti1.Nifti1Pair'&gt;\\ndata shap...</td>\n",
       "    </tr>\n",
       "    <tr>\n",
       "      <th>5</th>\n",
       "      <td>OAS2_0001</td>\n",
       "      <td>OAS2_0001_MR2</td>\n",
       "      <td>Nondemented</td>\n",
       "      <td>&lt;class 'nibabel.nifti1.Nifti1Pair'&gt;\\ndata shap...</td>\n",
       "    </tr>\n",
       "  </tbody>\n",
       "</table>\n",
       "</div>"
      ],
      "text/plain": [
       "  Subject ID         MRI ID        Group  \\\n",
       "0  OAS2_0001  OAS2_0001_MR1  Nondemented   \n",
       "1  OAS2_0001  OAS2_0001_MR1  Nondemented   \n",
       "2  OAS2_0001  OAS2_0001_MR1  Nondemented   \n",
       "3  OAS2_0001  OAS2_0001_MR2  Nondemented   \n",
       "4  OAS2_0001  OAS2_0001_MR2  Nondemented   \n",
       "5  OAS2_0001  OAS2_0001_MR2  Nondemented   \n",
       "\n",
       "                                               Image  \n",
       "0  <class 'nibabel.nifti1.Nifti1Pair'>\\ndata shap...  \n",
       "1  <class 'nibabel.nifti1.Nifti1Pair'>\\ndata shap...  \n",
       "2  <class 'nibabel.nifti1.Nifti1Pair'>\\ndata shap...  \n",
       "3  <class 'nibabel.nifti1.Nifti1Pair'>\\ndata shap...  \n",
       "4  <class 'nibabel.nifti1.Nifti1Pair'>\\ndata shap...  \n",
       "5  <class 'nibabel.nifti1.Nifti1Pair'>\\ndata shap...  "
      ]
     },
     "execution_count": 11,
     "metadata": {},
     "output_type": "execute_result"
    }
   ],
   "source": [
    "subjects = subjects.merge(image_df, how='right', on='MRI ID')\n",
    "assert(subjects['Image'].isnull().values.any()==False)\n",
    "print(subjects.shape)\n",
    "subjects[subjects['Subject ID'] == 'OAS2_0001']"
   ]
  },
  {
   "cell_type": "code",
   "execution_count": null,
   "metadata": {},
   "outputs": [],
   "source": []
  }
 ],
 "metadata": {
  "kernelspec": {
   "display_name": "Python (biof399-fp)",
   "language": "python",
   "name": "biof399-fp"
  },
  "language_info": {
   "codemirror_mode": {
    "name": "ipython",
    "version": 3
   },
   "file_extension": ".py",
   "mimetype": "text/x-python",
   "name": "python",
   "nbconvert_exporter": "python",
   "pygments_lexer": "ipython3",
   "version": "3.7.10"
  }
 },
 "nbformat": 4,
 "nbformat_minor": 4
}
